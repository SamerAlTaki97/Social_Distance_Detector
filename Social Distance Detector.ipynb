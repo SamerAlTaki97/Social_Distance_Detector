{
 "cells": [
  {
   "cell_type": "markdown",
   "metadata": {},
   "source": [
    "# Name : Samer AlTaki\n",
    "### IOT & Computer Vision \n",
    "## Task3 : Social Distance Detector in Real Time"
   ]
  },
  {
   "cell_type": "markdown",
   "metadata": {},
   "source": [
    "#   "
   ]
  },
  {
   "cell_type": "markdown",
   "metadata": {},
   "source": [
    "# 1.1 Social Distance Detector"
   ]
  },
  {
   "cell_type": "code",
   "execution_count": 12,
   "metadata": {},
   "outputs": [],
   "source": [
    "import numpy as np\n",
    "import time\n",
    "import cv2\n",
    "import math"
   ]
  },
  {
   "cell_type": "code",
   "execution_count": 13,
   "metadata": {},
   "outputs": [],
   "source": [
    "#Load the COCO class labels:\n",
    "classes = []\n",
    "with open(\"yolov3/coco.names\", \"r\") as f:\n",
    "    classes = [line.strip() for line in f.readlines()]\n",
    "\n",
    "#Load the pre-trained YOLOv3 weights and configuration files for object detection\n",
    "net = cv2.dnn.readNetFromDarknet(\"yolov3/yolov3.cfg\" , \"yolov3/yolov3.weights\")\n",
    "\n",
    "#Define the minimum distance threshold for social distancing (in pixels) and set up a scale factor for resizing the image\n",
    "min_distance = 120\n",
    "scale = 0.00392"
   ]
  },
  {
   "cell_type": "code",
   "execution_count": 14,
   "metadata": {},
   "outputs": [],
   "source": [
    "cap = cv2.VideoCapture('test_video.mp4')\n",
    "hasFrame, frame = cap.read()"
   ]
  },
  {
   "cell_type": "code",
   "execution_count": 15,
   "metadata": {},
   "outputs": [],
   "source": [
    "while True:\n",
    "    ret, image = cap.read()\n",
    "    if not ret:\n",
    "        break\n",
    "    height, width, _ = image.shape\n",
    "    # Perform object detection using YOLOv3\n",
    "    blob = cv2.dnn.blobFromImage(image, scale, (416, 416), (0, 0, 0), True, crop=False)\n",
    "    net.setInput(blob)\n",
    "    outs = net.forward(net.getUnconnectedOutLayersNames())\n",
    "\n",
    "    # Initialize lists for storing person centroids and bounding boxes\n",
    "    class_ids = []\n",
    "    confidences = []\n",
    "    boxes = []\n",
    "    centroids = []\n",
    "\n",
    "    for out in outs:\n",
    "        for detection in out:\n",
    "            scores = detection[5:]\n",
    "            class_id = np.argmax(scores)\n",
    "            confidence = scores[class_id]\n",
    "\n",
    "            if class_id == 0 and confidence > 0.5:\n",
    "                # Object is a person\n",
    "                center_x = int(detection[0] * width)\n",
    "                center_y = int(detection[1] * height)\n",
    "                w = int(detection[2] * width)\n",
    "                h = int(detection[3] * height)\n",
    "\n",
    "                # Calculate the bounding box coordinates\n",
    "                x = int(center_x - w / 2)\n",
    "                y = int(center_y - h / 2)\n",
    "\n",
    "                # Store the person's centroid and bounding box\n",
    "                centroids.append((center_x, center_y))\n",
    "                boxes.append([x, y, w, h])\n",
    "                confidences.append(float(confidence))\n",
    "                class_ids.append(class_id)\n",
    "\n",
    "    # Perform non-maximum suppression to eliminate redundant overlapping bounding boxes\n",
    "    indices = cv2.dnn.NMSBoxes(boxes, confidences, 0.5, 0.4)\n",
    "\n",
    "    # Check the distance between each pair of centroids\n",
    "    for i in range(len(centroids)):\n",
    "        if i in indices:\n",
    "            x1, y1 = centroids[i]\n",
    "            for j in range(i + 1, len(centroids)):\n",
    "                if j in indices:\n",
    "                    x2, y2 = centroids[j]\n",
    "                    distance = np.sqrt((x2 - x1) ** 2 + (y2 - y1) ** 2)\n",
    "\n",
    "                    # If distance is less than the threshold, draw a red bounding box\n",
    "                    if distance < min_distance:\n",
    "                        cv2.rectangle(image, (boxes[i][0], boxes[i][1]), (boxes[i][0] + boxes[i][2], boxes[i][1] + boxes[i][3]), (0, 0, 255), 2)\n",
    "                        cv2.rectangle(image, (boxes[j][0], boxes[j][1]), (boxes[j][0] + boxes[j][2], boxes[j][1] + boxes[j][3]), (0, 0, 255), 2)\n",
    "                    # If distance is larger than the threshold, draw a green bounding box\n",
    "                    else:\n",
    "                        cv2.rectangle(image, (boxes[i][0], boxes[i][1]), (boxes[i][0] + boxes[i][2], boxes[i][1] + boxes[i][3]), (0, 255, 0), 2)\n",
    "                        cv2.rectangle(image, (boxes[j][0], boxes[j][1]), (boxes[j][0] + boxes[j][2], boxes[j][1] + boxes[j][3]), (0, 255, 0), 2)\n",
    "\n",
    "    # Display the resulting image\n",
    "    cv2.imshow(\"Social Distancing Detector\", image)\n",
    "    if cv2.waitKey(1) == ord('q'):\n",
    "        break\n",
    "\n",
    "# Release the capture and close the windows\n",
    "cap.release()\n",
    "cv2.destroyAllWindows()"
   ]
  },
  {
   "cell_type": "code",
   "execution_count": null,
   "metadata": {},
   "outputs": [],
   "source": []
  }
 ],
 "metadata": {
  "kernelspec": {
   "display_name": "Python 3",
   "language": "python",
   "name": "python3"
  },
  "language_info": {
   "codemirror_mode": {
    "name": "ipython",
    "version": 3
   },
   "file_extension": ".py",
   "mimetype": "text/x-python",
   "name": "python",
   "nbconvert_exporter": "python",
   "pygments_lexer": "ipython3",
   "version": "3.8.3"
  }
 },
 "nbformat": 4,
 "nbformat_minor": 4
}
